{
 "cells": [
  {
   "cell_type": "markdown",
   "metadata": {},
   "source": [
    "# Проект для «Викишоп»"
   ]
  },
  {
   "cell_type": "markdown",
   "metadata": {},
   "source": [
    "Интернет-магазин «Викишоп» запускает новый сервис. Теперь пользователи могут редактировать и дополнять описания товаров, как в вики-сообществах. То есть клиенты предлагают свои правки и комментируют изменения других. Магазину нужен инструмент, который будет искать токсичные комментарии и отправлять их на модерацию. \n",
    "\n",
    "Обучите модель классифицировать комментарии на позитивные и негативные. В вашем распоряжении набор данных с разметкой о токсичности правок.\n",
    "\n",
    "Постройте модель со значением метрики качества *F1* не меньше 0.75. \n",
    "\n",
    "**Инструкция по выполнению проекта**\n",
    "\n",
    "1. Загрузите и подготовьте данные.\n",
    "2. Обучите разные модели. \n",
    "3. Сделайте выводы.\n",
    "\n",
    "\n",
    "**Описание данных**\n",
    "\n",
    "Данные находятся в файле `toxic_comments.csv`. Столбец *text* в нём содержит текст комментария, а *toxic* — целевой признак."
   ]
  },
  {
   "cell_type": "markdown",
   "metadata": {},
   "source": [
    "## Подготовка"
   ]
  },
  {
   "cell_type": "code",
   "execution_count": 1,
   "metadata": {
    "scrolled": true
   },
   "outputs": [
    {
     "name": "stderr",
     "output_type": "stream",
     "text": [
      "/opt/conda/lib/python3.9/site-packages/scipy/__init__.py:155: UserWarning: A NumPy version >=1.18.5 and <1.25.0 is required for this version of SciPy (detected version 1.26.4\n",
      "  warnings.warn(f\"A NumPy version >={np_minversion} and <{np_maxversion}\"\n",
      "/opt/conda/lib/python3.9/site-packages/joblib/_multiprocessing_helpers.py:45: UserWarning: [Errno 28] No space left on device.  joblib will operate in serial mode\n",
      "  warnings.warn('%s.  joblib will operate in serial mode' % (e,))\n"
     ]
    },
    {
     "name": "stdout",
     "output_type": "stream",
     "text": [
      "INFO: Pandarallel will run on 4 workers.\n",
      "INFO: Pandarallel will use Memory file system to transfer data between the main process and workers.\n"
     ]
    },
    {
     "name": "stderr",
     "output_type": "stream",
     "text": [
      "[nltk_data] Downloading package averaged_perceptron_tagger to\n",
      "[nltk_data]     /home/jovyan/nltk_data...\n",
      "[nltk_data]   Package averaged_perceptron_tagger is already up-to-\n",
      "[nltk_data]       date!\n"
     ]
    }
   ],
   "source": [
    "# Импорт необходимых библиотек\n",
    "import matplotlib.pyplot as plt\n",
    "import numpy as np\n",
    "import pandas as pd\n",
    "import re\n",
    "from sklearn.feature_extraction.text import TfidfVectorizer\n",
    "from sklearn.model_selection import train_test_split, cross_val_score, GridSearchCV\n",
    "from sklearn.linear_model import LogisticRegression, SGDClassifier\n",
    "from sklearn.tree import DecisionTreeClassifier\n",
    "from catboost import CatBoostClassifier\n",
    "from sklearn.metrics import f1_score\n",
    "import warnings\n",
    "import spacy\n",
    "from spacy.lang.en import English\n",
    "from spacy.lang.en.stop_words import STOP_WORDS\n",
    "from spacy.tokens import Token\n",
    "from tqdm.notebook import tqdm\n",
    "import nltk\n",
    "from nltk.stem import WordNetLemmatizer\n",
    "from nltk.corpus import stopwords\n",
    "from nltk.stem import WordNetLemmatizer\n",
    "from nltk.stem import WordNetLemmatizer\n",
    "tqdm.pandas()\n",
    "warnings.filterwarnings('ignore')\n",
    "from nltk.corpus import wordnet\n",
    "nltk.download('averaged_perceptron_tagger')\n",
    "\n",
    "# pip install pandarallel\n",
    "# pip install modin\n",
    "from pandarallel import pandarallel\n",
    "pandarallel.initialize(progress_bar=True)"
   ]
  },
  {
   "cell_type": "code",
   "execution_count": 2,
   "metadata": {
    "scrolled": true
   },
   "outputs": [
    {
     "data": {
      "text/html": [
       "<div>\n",
       "<style scoped>\n",
       "    .dataframe tbody tr th:only-of-type {\n",
       "        vertical-align: middle;\n",
       "    }\n",
       "\n",
       "    .dataframe tbody tr th {\n",
       "        vertical-align: top;\n",
       "    }\n",
       "\n",
       "    .dataframe thead th {\n",
       "        text-align: right;\n",
       "    }\n",
       "</style>\n",
       "<table border=\"1\" class=\"dataframe\">\n",
       "  <thead>\n",
       "    <tr style=\"text-align: right;\">\n",
       "      <th></th>\n",
       "      <th>text</th>\n",
       "      <th>toxic</th>\n",
       "    </tr>\n",
       "  </thead>\n",
       "  <tbody>\n",
       "    <tr>\n",
       "      <th>37584</th>\n",
       "      <td>September 2011 (UTC)\\nTo hell with it. See my ...</td>\n",
       "      <td>0</td>\n",
       "    </tr>\n",
       "    <tr>\n",
       "      <th>42298</th>\n",
       "      <td>You appear to be an idiot. These are legitimat...</td>\n",
       "      <td>1</td>\n",
       "    </tr>\n",
       "    <tr>\n",
       "      <th>38772</th>\n",
       "      <td>The Juggernaut, Bitch!! \\n\\nI think the line a...</td>\n",
       "      <td>1</td>\n",
       "    </tr>\n",
       "    <tr>\n",
       "      <th>103823</th>\n",
       "      <td>\"\\n\\nManchus\\n\\nIn April you reverted my edits...</td>\n",
       "      <td>0</td>\n",
       "    </tr>\n",
       "    <tr>\n",
       "      <th>1566</th>\n",
       "      <td>targeting any dissent. No doubt 86.149.148.121...</td>\n",
       "      <td>0</td>\n",
       "    </tr>\n",
       "  </tbody>\n",
       "</table>\n",
       "</div>"
      ],
      "text/plain": [
       "                                                     text  toxic\n",
       "37584   September 2011 (UTC)\\nTo hell with it. See my ...      0\n",
       "42298   You appear to be an idiot. These are legitimat...      1\n",
       "38772   The Juggernaut, Bitch!! \\n\\nI think the line a...      1\n",
       "103823  \"\\n\\nManchus\\n\\nIn April you reverted my edits...      0\n",
       "1566    targeting any dissent. No doubt 86.149.148.121...      0"
      ]
     },
     "metadata": {},
     "output_type": "display_data"
    },
    {
     "name": "stdout",
     "output_type": "stream",
     "text": [
      "<class 'pandas.core.frame.DataFrame'>\n",
      "Index: 159292 entries, 0 to 159450\n",
      "Data columns (total 2 columns):\n",
      " #   Column  Non-Null Count   Dtype \n",
      "---  ------  --------------   ----- \n",
      " 0   text    159292 non-null  object\n",
      " 1   toxic   159292 non-null  int64 \n",
      "dtypes: int64(1), object(1)\n",
      "memory usage: 3.6+ MB\n"
     ]
    }
   ],
   "source": [
    "# Загрузка данных\n",
    "data = pd.read_csv('/datasets/toxic_comments.csv',index_col=0)\n",
    "display(data.sample(5))\n",
    "data.info()"
   ]
  },
  {
   "cell_type": "code",
   "execution_count": 4,
   "metadata": {
    "scrolled": true
   },
   "outputs": [
    {
     "data": {
      "text/plain": [
       "0"
      ]
     },
     "execution_count": 4,
     "metadata": {},
     "output_type": "execute_result"
    }
   ],
   "source": [
    "# Количество общих дубликатов\n",
    "data.duplicated().sum()"
   ]
  },
  {
   "cell_type": "code",
   "execution_count": 5,
   "metadata": {},
   "outputs": [
    {
     "data": {
      "text/plain": [
       "toxic\n",
       "0    143106\n",
       "1     16186\n",
       "Name: count, dtype: int64"
      ]
     },
     "execution_count": 5,
     "metadata": {},
     "output_type": "execute_result"
    }
   ],
   "source": [
    "# Распределение данных в столбце toxic\n",
    "data['toxic'].value_counts()"
   ]
  },
  {
   "cell_type": "code",
   "execution_count": 6,
   "metadata": {},
   "outputs": [
    {
     "data": {
      "text/plain": [
       "Text(0.5, 0, '0 - нетоксичный, 1 - токсичный')"
      ]
     },
     "execution_count": 6,
     "metadata": {},
     "output_type": "execute_result"
    },
    {
     "data": {
      "image/png": "[encoded data removed]",
      "text/plain": [
       "<Figure size 432x288 with 1 Axes>"
      ]
     },
     "metadata": {
      "needs_background": "light"
     },
     "output_type": "display_data"
    }
   ],
   "source": [
    "data['toxic'].value_counts().plot(kind='bar')\n",
    "plt.title('Распределение комментариев по токсичности')\n",
    "plt.xlabel('0 - нетоксичный, 1 - токсичный')"
   ]
  },
  {
   "cell_type": "code",
   "execution_count": 9,
   "metadata": {},
   "outputs": [],
   "source": [
    "def get_wordnet_pos(word):\n",
    "    \"\"\"Map POS tag to first character lemmatize() accepts\"\"\"\n",
    "    tag = nltk.pos_tag([word])[0][1][0].upper()\n",
    "    tag_dict = {\"J\": wordnet.ADJ,\n",
    "                \"N\": wordnet.NOUN,\n",
    "                \"V\": wordnet.VERB,\n",
    "                \"R\": wordnet.ADV}\n",
    "    return tag_dict.get(tag, wordnet.NOUN)\n",
    "\n",
    "def clear_text(text):\n",
    "    text = text.lower()\n",
    "    text = re.sub(r\"[^a-zA-Z']\", ' ', text)\n",
    "    return ' '.join(text.split())\n",
    "\n",
    "def lemmatize_text(text):\n",
    "    m = WordNetLemmatizer()\n",
    "    txt_list =  nltk.word_tokenize(text)\n",
    "    return ' '.join([m.lemmatize(word,get_wordnet_pos(word)) for word in txt_list])"
   ]
  },
  {
   "cell_type": "code",
   "execution_count": 10,
   "metadata": {
    "scrolled": true
   },
   "outputs": [
    {
     "data": {
      "application/vnd.jupyter.widget-view+json": {
       "model_id": "bd97a51731eb4bdb982a3f321ab12264",
       "version_major": 2,
       "version_minor": 0
      },
      "text/plain": [
       "  0%|          | 0/2 [00:00<?, ?it/s]"
      ]
     },
     "metadata": {},
     "output_type": "display_data"
    },
    {
     "data": {
      "text/html": [
       "<div>\n",
       "<style scoped>\n",
       "    .dataframe tbody tr th:only-of-type {\n",
       "        vertical-align: middle;\n",
       "    }\n",
       "\n",
       "    .dataframe tbody tr th {\n",
       "        vertical-align: top;\n",
       "    }\n",
       "\n",
       "    .dataframe thead th {\n",
       "        text-align: right;\n",
       "    }\n",
       "</style>\n",
       "<table border=\"1\" class=\"dataframe\">\n",
       "  <thead>\n",
       "    <tr style=\"text-align: right;\">\n",
       "      <th></th>\n",
       "      <th>text</th>\n",
       "      <th>lemm_text</th>\n",
       "    </tr>\n",
       "  </thead>\n",
       "  <tbody>\n",
       "    <tr>\n",
       "      <th>0</th>\n",
       "      <td>The striped bats are hanging on their feet for...</td>\n",
       "      <td>the strip bat be hang on their foot for best</td>\n",
       "    </tr>\n",
       "    <tr>\n",
       "      <th>1</th>\n",
       "      <td>you should be ashamed of yourself went worked</td>\n",
       "      <td>you should be ashamed of yourself go work</td>\n",
       "    </tr>\n",
       "  </tbody>\n",
       "</table>\n",
       "</div>"
      ],
      "text/plain": [
       "                                                text  \\\n",
       "0  The striped bats are hanging on their feet for...   \n",
       "1      you should be ashamed of yourself went worked   \n",
       "\n",
       "                                      lemm_text  \n",
       "0  the strip bat be hang on their foot for best  \n",
       "1     you should be ashamed of yourself go work  "
      ]
     },
     "execution_count": 10,
     "metadata": {},
     "output_type": "execute_result"
    }
   ],
   "source": [
    "# Попробую на примере\n",
    "sentence1 = \"The striped bats are hanging on their feet for best\"\n",
    "sentence2 = \"you should be ashamed of yourself went worked\"\n",
    "df = pd.DataFrame([sentence1, sentence2], columns = ['text'])\n",
    "\n",
    "# df['lemm_text'] = df['text'].parallel_apply(lambda x: lemmatize_text(clear_text(x)))\n",
    "df['lemm_text'] = df['text'].progress_apply(lambda x: lemmatize_text(clear_text(x)))\n",
    "df"
   ]
  },
  {
   "cell_type": "code",
   "execution_count": 11,
   "metadata": {
    "scrolled": true
   },
   "outputs": [
    {
     "data": {
      "application/vnd.jupyter.widget-view+json": {
       "model_id": "db08e3724f3441e7ba044c4c9405073e",
       "version_major": 2,
       "version_minor": 0
      },
      "text/plain": [
       "  0%|          | 0/159292 [00:00<?, ?it/s]"
      ]
     },
     "metadata": {},
     "output_type": "display_data"
    },
    {
     "data": {
      "text/html": [
       "<div>\n",
       "<style scoped>\n",
       "    .dataframe tbody tr th:only-of-type {\n",
       "        vertical-align: middle;\n",
       "    }\n",
       "\n",
       "    .dataframe tbody tr th {\n",
       "        vertical-align: top;\n",
       "    }\n",
       "\n",
       "    .dataframe thead th {\n",
       "        text-align: right;\n",
       "    }\n",
       "</style>\n",
       "<table border=\"1\" class=\"dataframe\">\n",
       "  <thead>\n",
       "    <tr style=\"text-align: right;\">\n",
       "      <th></th>\n",
       "      <th>text</th>\n",
       "      <th>toxic</th>\n",
       "      <th>lemm_text</th>\n",
       "    </tr>\n",
       "  </thead>\n",
       "  <tbody>\n",
       "    <tr>\n",
       "      <th>0</th>\n",
       "      <td>Explanation\\nWhy the edits made under my usern...</td>\n",
       "      <td>0</td>\n",
       "      <td>explanation why the edits make under my userna...</td>\n",
       "    </tr>\n",
       "    <tr>\n",
       "      <th>1</th>\n",
       "      <td>D'aww! He matches this background colour I'm s...</td>\n",
       "      <td>0</td>\n",
       "      <td>d'aww he match this background colour i 'm see...</td>\n",
       "    </tr>\n",
       "    <tr>\n",
       "      <th>2</th>\n",
       "      <td>Hey man, I'm really not trying to edit war. It...</td>\n",
       "      <td>0</td>\n",
       "      <td>hey man i 'm really not try to edit war it 's ...</td>\n",
       "    </tr>\n",
       "    <tr>\n",
       "      <th>3</th>\n",
       "      <td>\"\\nMore\\nI can't make any real suggestions on ...</td>\n",
       "      <td>0</td>\n",
       "      <td>more i ca n't make any real suggestion on impr...</td>\n",
       "    </tr>\n",
       "    <tr>\n",
       "      <th>4</th>\n",
       "      <td>You, sir, are my hero. Any chance you remember...</td>\n",
       "      <td>0</td>\n",
       "      <td>you sir be my hero any chance you remember wha...</td>\n",
       "    </tr>\n",
       "    <tr>\n",
       "      <th>...</th>\n",
       "      <td>...</td>\n",
       "      <td>...</td>\n",
       "      <td>...</td>\n",
       "    </tr>\n",
       "    <tr>\n",
       "      <th>159446</th>\n",
       "      <td>\":::::And for the second time of asking, when ...</td>\n",
       "      <td>0</td>\n",
       "      <td>and for the second time of ask when your view ...</td>\n",
       "    </tr>\n",
       "    <tr>\n",
       "      <th>159447</th>\n",
       "      <td>You should be ashamed of yourself \\n\\nThat is ...</td>\n",
       "      <td>0</td>\n",
       "      <td>you should be ashamed of yourself that be a ho...</td>\n",
       "    </tr>\n",
       "    <tr>\n",
       "      <th>159448</th>\n",
       "      <td>Spitzer \\n\\nUmm, theres no actual article for ...</td>\n",
       "      <td>0</td>\n",
       "      <td>spitzer umm there no actual article for prosti...</td>\n",
       "    </tr>\n",
       "    <tr>\n",
       "      <th>159449</th>\n",
       "      <td>And it looks like it was actually you who put ...</td>\n",
       "      <td>0</td>\n",
       "      <td>and it look like it be actually you who put on...</td>\n",
       "    </tr>\n",
       "    <tr>\n",
       "      <th>159450</th>\n",
       "      <td>\"\\nAnd ... I really don't think you understand...</td>\n",
       "      <td>0</td>\n",
       "      <td>and i really do n't think you understand i com...</td>\n",
       "    </tr>\n",
       "  </tbody>\n",
       "</table>\n",
       "<p>159292 rows × 3 columns</p>\n",
       "</div>"
      ],
      "text/plain": [
       "                                                     text  toxic  \\\n",
       "0       Explanation\\nWhy the edits made under my usern...      0   \n",
       "1       D'aww! He matches this background colour I'm s...      0   \n",
       "2       Hey man, I'm really not trying to edit war. It...      0   \n",
       "3       \"\\nMore\\nI can't make any real suggestions on ...      0   \n",
       "4       You, sir, are my hero. Any chance you remember...      0   \n",
       "...                                                   ...    ...   \n",
       "159446  \":::::And for the second time of asking, when ...      0   \n",
       "159447  You should be ashamed of yourself \\n\\nThat is ...      0   \n",
       "159448  Spitzer \\n\\nUmm, theres no actual article for ...      0   \n",
       "159449  And it looks like it was actually you who put ...      0   \n",
       "159450  \"\\nAnd ... I really don't think you understand...      0   \n",
       "\n",
       "                                                lemm_text  \n",
       "0       explanation why the edits make under my userna...  \n",
       "1       d'aww he match this background colour i 'm see...  \n",
       "2       hey man i 'm really not try to edit war it 's ...  \n",
       "3       more i ca n't make any real suggestion on impr...  \n",
       "4       you sir be my hero any chance you remember wha...  \n",
       "...                                                   ...  \n",
       "159446  and for the second time of ask when your view ...  \n",
       "159447  you should be ashamed of yourself that be a ho...  \n",
       "159448  spitzer umm there no actual article for prosti...  \n",
       "159449  and it look like it be actually you who put on...  \n",
       "159450  and i really do n't think you understand i com...  \n",
       "\n",
       "[159292 rows x 3 columns]"
      ]
     },
     "execution_count": 11,
     "metadata": {},
     "output_type": "execute_result"
    }
   ],
   "source": [
    "# Лемматизирую исходный текст\n",
    "# data['lemm_text'] = data['text'].parallel_apply(lambda x: lemmatize_text(clear_text(x)))\n",
    "data['lemm_text'] = data['text'].progress_apply(lambda x: lemmatize_text(clear_text(x)))\n",
    "data"
   ]
  },
  {
   "cell_type": "code",
   "execution_count": 12,
   "metadata": {},
   "outputs": [
    {
     "data": {
      "text/html": [
       "<div>\n",
       "<style scoped>\n",
       "    .dataframe tbody tr th:only-of-type {\n",
       "        vertical-align: middle;\n",
       "    }\n",
       "\n",
       "    .dataframe tbody tr th {\n",
       "        vertical-align: top;\n",
       "    }\n",
       "\n",
       "    .dataframe thead th {\n",
       "        text-align: right;\n",
       "    }\n",
       "</style>\n",
       "<table border=\"1\" class=\"dataframe\">\n",
       "  <thead>\n",
       "    <tr style=\"text-align: right;\">\n",
       "      <th></th>\n",
       "      <th>toxic</th>\n",
       "      <th>lemm_text</th>\n",
       "    </tr>\n",
       "  </thead>\n",
       "  <tbody>\n",
       "    <tr>\n",
       "      <th>0</th>\n",
       "      <td>0</td>\n",
       "      <td>explanation why the edits make under my userna...</td>\n",
       "    </tr>\n",
       "    <tr>\n",
       "      <th>1</th>\n",
       "      <td>0</td>\n",
       "      <td>d'aww he match this background colour i 'm see...</td>\n",
       "    </tr>\n",
       "    <tr>\n",
       "      <th>2</th>\n",
       "      <td>0</td>\n",
       "      <td>hey man i 'm really not try to edit war it 's ...</td>\n",
       "    </tr>\n",
       "    <tr>\n",
       "      <th>3</th>\n",
       "      <td>0</td>\n",
       "      <td>more i ca n't make any real suggestion on impr...</td>\n",
       "    </tr>\n",
       "    <tr>\n",
       "      <th>4</th>\n",
       "      <td>0</td>\n",
       "      <td>you sir be my hero any chance you remember wha...</td>\n",
       "    </tr>\n",
       "    <tr>\n",
       "      <th>...</th>\n",
       "      <td>...</td>\n",
       "      <td>...</td>\n",
       "    </tr>\n",
       "    <tr>\n",
       "      <th>159446</th>\n",
       "      <td>0</td>\n",
       "      <td>and for the second time of ask when your view ...</td>\n",
       "    </tr>\n",
       "    <tr>\n",
       "      <th>159447</th>\n",
       "      <td>0</td>\n",
       "      <td>you should be ashamed of yourself that be a ho...</td>\n",
       "    </tr>\n",
       "    <tr>\n",
       "      <th>159448</th>\n",
       "      <td>0</td>\n",
       "      <td>spitzer umm there no actual article for prosti...</td>\n",
       "    </tr>\n",
       "    <tr>\n",
       "      <th>159449</th>\n",
       "      <td>0</td>\n",
       "      <td>and it look like it be actually you who put on...</td>\n",
       "    </tr>\n",
       "    <tr>\n",
       "      <th>159450</th>\n",
       "      <td>0</td>\n",
       "      <td>and i really do n't think you understand i com...</td>\n",
       "    </tr>\n",
       "  </tbody>\n",
       "</table>\n",
       "<p>159292 rows × 2 columns</p>\n",
       "</div>"
      ],
      "text/plain": [
       "        toxic                                          lemm_text\n",
       "0           0  explanation why the edits make under my userna...\n",
       "1           0  d'aww he match this background colour i 'm see...\n",
       "2           0  hey man i 'm really not try to edit war it 's ...\n",
       "3           0  more i ca n't make any real suggestion on impr...\n",
       "4           0  you sir be my hero any chance you remember wha...\n",
       "...       ...                                                ...\n",
       "159446      0  and for the second time of ask when your view ...\n",
       "159447      0  you should be ashamed of yourself that be a ho...\n",
       "159448      0  spitzer umm there no actual article for prosti...\n",
       "159449      0  and it look like it be actually you who put on...\n",
       "159450      0  and i really do n't think you understand i com...\n",
       "\n",
       "[159292 rows x 2 columns]"
      ]
     },
     "execution_count": 12,
     "metadata": {},
     "output_type": "execute_result"
    }
   ],
   "source": [
    "data = data.drop('text',axis=1)\n",
    "data"
   ]
  },
  {
   "cell_type": "markdown",
   "metadata": {},
   "source": [
    "## Обучение"
   ]
  },
  {
   "cell_type": "markdown",
   "metadata": {},
   "source": [
    "### Обучение моделей"
   ]
  },
  {
   "cell_type": "markdown",
   "metadata": {},
   "source": [
    "Для обучения выберу следующие модели:\n",
    "- LogisticRegression\n",
    "- DecisionTreeClassifier\n",
    "- CatBoostClassifier\n",
    "\n",
    "Проведу подбор параметров с помощью GridSearch. \n",
    "И для начала подготовлю выборки - тренировочную и тестовую."
   ]
  },
  {
   "cell_type": "code",
   "execution_count": 13,
   "metadata": {
    "scrolled": true
   },
   "outputs": [
    {
     "data": {
      "application/vnd.jupyter.widget-view+json": {
       "model_id": "f3a20cb976e044f2a1b21126516e8f92",
       "version_major": 2,
       "version_minor": 0
      },
      "text/plain": [
       "  0%|          | 0/143362 [00:00<?, ?it/s]"
      ]
     },
     "metadata": {},
     "output_type": "display_data"
    },
    {
     "name": "stdout",
     "output_type": "stream",
     "text": [
      "(143362,)\n",
      "(15930,)\n",
      "CPU times: user 6.53 s, sys: 226 ms, total: 6.76 s\n",
      "Wall time: 7.01 s\n"
     ]
    }
   ],
   "source": [
    "%%time\n",
    "\n",
    "# Подготовка выборок\n",
    "\n",
    "target = data['toxic']\n",
    "features = data.drop(['toxic'], axis=1)\n",
    "train, test = train_test_split(data, test_size=0.1, random_state=12345,stratify=target)\n",
    "\n",
    "target_train = train['toxic']\n",
    "features_train = train['lemm_text']\n",
    "\n",
    "target_test = test['toxic']\n",
    "features_test = test['lemm_text']\n",
    "\n",
    "stopwords_ = set(stopwords.words('english'))\n",
    "count_tf_idf = TfidfVectorizer(stop_words=stopwords_)\n",
    "tf_idf = count_tf_idf.fit_transform(tqdm(features_train))\n",
    "tf_idf_test = count_tf_idf.transform(features_test)\n",
    "print(features_train.shape)\n",
    "print(features_test.shape)"
   ]
  },
  {
   "cell_type": "code",
   "execution_count": 14,
   "metadata": {},
   "outputs": [
    {
     "name": "stdout",
     "output_type": "stream",
     "text": [
      "Лучшие параметры:\n",
      "{'C': 5}\n",
      "Результаты кросс-валидации:\n",
      "\n",
      "0.684050 for {'C': 0.5}\n",
      "0.722641 for {'C': 1}\n",
      "0.762521 for {'C': 5}\n",
      "CPU times: user 5min 29s, sys: 5min 45s, total: 11min 15s\n",
      "Wall time: 11min 15s\n"
     ]
    }
   ],
   "source": [
    "%%time\n",
    "\n",
    "# Логистическая регрессия\n",
    "model = LogisticRegression()\n",
    "hyperparams = [{'C':[0.5, 1, 5]}]\n",
    "\n",
    "clf_LR = GridSearchCV(model, hyperparams, scoring='f1')\n",
    "clf_LR.fit(tf_idf, target_train)\n",
    "print(\"Лучшие параметры:\")\n",
    "LR_best_params = clf_LR.best_params_\n",
    "print(LR_best_params)\n",
    "print(\"Результаты кросс-валидации:\")\n",
    "print()\n",
    "means = clf_LR.cv_results_['mean_test_score']\n",
    "stds = clf_LR.cv_results_['std_test_score']\n",
    "\n",
    "for mean, std, params in zip(means, stds, clf_LR.cv_results_['params']):\n",
    "    print(\"%0.6f for %r\"% (mean, params))\n",
    "\n",
    "results = clf_LR.cv_results_\n",
    "mean_fit_time_LR = results['mean_fit_time']\n",
    "mean_score_time_LR = results['mean_score_time']\n",
    "best_f1_LR = clf_LR.best_score_"
   ]
  },
  {
   "cell_type": "code",
   "execution_count": 15,
   "metadata": {},
   "outputs": [
    {
     "name": "stdout",
     "output_type": "stream",
     "text": [
      "Лучшие параметры:\n",
      "{'max_depth': 5}\n",
      "Результаты кросс-валидации:\n",
      "\n",
      "0.541217 for {'max_depth': 5}\n",
      "CPU times: user 1min 4s, sys: 306 ms, total: 1min 5s\n",
      "Wall time: 1min 5s\n"
     ]
    }
   ],
   "source": [
    "%%time\n",
    "\n",
    "# DecisionTreeClassifier\n",
    "model = DecisionTreeClassifier()\n",
    "hyperparams = [{'max_depth':[x for x in range(5,10,20)]}]\n",
    "\n",
    "clf_DT = GridSearchCV(model, hyperparams, scoring='f1')\n",
    "clf_DT.fit(tf_idf, target_train)\n",
    "print(\"Лучшие параметры:\")\n",
    "DT_best_params = clf_DT.best_params_\n",
    "print(DT_best_params)\n",
    "print(\"Результаты кросс-валидации:\")\n",
    "print()\n",
    "means = clf_DT.cv_results_['mean_test_score']\n",
    "stds = clf_DT.cv_results_['std_test_score']\n",
    "\n",
    "for mean, std, params in zip(means, stds, clf_DT.cv_results_['params']):\n",
    "    print(\"%0.6f for %r\"% (mean, params))\n",
    "\n",
    "results = clf_DT.cv_results_\n",
    "mean_fit_time_DT = results['mean_fit_time']\n",
    "mean_score_time_DT = results['mean_score_time']\n",
    "best_f1_DT = clf_DT.best_score_"
   ]
  },
  {
   "cell_type": "code",
   "execution_count": 16,
   "metadata": {},
   "outputs": [
    {
     "name": "stdout",
     "output_type": "stream",
     "text": [
      "Лучшие параметры:\n",
      "{'iterations': 200}\n",
      "Результаты кросс-валидации:\n",
      "\n",
      "0.716742 for {'iterations': 50}\n",
      "0.738749 for {'iterations': 100}\n",
      "0.740838 for {'iterations': 200}\n",
      "CPU times: user 1h 4min 52s, sys: 39 s, total: 1h 5min 31s\n",
      "Wall time: 1h 5min 40s\n"
     ]
    }
   ],
   "source": [
    "%%time\n",
    "\n",
    "# CatBoostClassifier\n",
    "model = CatBoostClassifier(verbose=False)\n",
    "hyperparams = [{'iterations':[50,100,200]}]\n",
    "\n",
    "clf_CB = GridSearchCV(model, hyperparams, scoring='f1')\n",
    "clf_CB.fit(tf_idf, target_train)\n",
    "print(\"Лучшие параметры:\")\n",
    "CB_best_params = clf_CB.best_params_\n",
    "print(CB_best_params)\n",
    "print(\"Результаты кросс-валидации:\")\n",
    "print()\n",
    "means = clf_CB.cv_results_['mean_test_score']\n",
    "stds = clf_CB.cv_results_['std_test_score']\n",
    "\n",
    "for mean, std, params in zip(means, stds, clf_CB.cv_results_['params']):\n",
    "    print(\"%0.6f for %r\"% (mean, params))\n",
    "\n",
    "results = clf_CB.cv_results_\n",
    "mean_fit_time_CB = results['mean_fit_time']\n",
    "mean_score_time_CB = results['mean_score_time']\n",
    "best_f1_CB = clf_CB.best_score_"
   ]
  },
  {
   "cell_type": "code",
   "execution_count": 17,
   "metadata": {},
   "outputs": [
    {
     "data": {
      "text/html": [
       "<div>\n",
       "<style scoped>\n",
       "    .dataframe tbody tr th:only-of-type {\n",
       "        vertical-align: middle;\n",
       "    }\n",
       "\n",
       "    .dataframe tbody tr th {\n",
       "        vertical-align: top;\n",
       "    }\n",
       "\n",
       "    .dataframe thead th {\n",
       "        text-align: right;\n",
       "    }\n",
       "</style>\n",
       "<table border=\"1\" class=\"dataframe\">\n",
       "  <thead>\n",
       "    <tr style=\"text-align: right;\">\n",
       "      <th></th>\n",
       "      <th>Время обучения, сек</th>\n",
       "      <th>Время предсказания, сек</th>\n",
       "      <th>F1</th>\n",
       "    </tr>\n",
       "  </thead>\n",
       "  <tbody>\n",
       "    <tr>\n",
       "      <th>LogisticRegression</th>\n",
       "      <td>43.782590</td>\n",
       "      <td>0.155983</td>\n",
       "      <td>0.762521</td>\n",
       "    </tr>\n",
       "    <tr>\n",
       "      <th>CatBoostClassifier</th>\n",
       "      <td>375.065120</td>\n",
       "      <td>0.359143</td>\n",
       "      <td>0.740838</td>\n",
       "    </tr>\n",
       "    <tr>\n",
       "      <th>DecisionTreeClassifier</th>\n",
       "      <td>12.502696</td>\n",
       "      <td>0.034760</td>\n",
       "      <td>0.541217</td>\n",
       "    </tr>\n",
       "  </tbody>\n",
       "</table>\n",
       "</div>"
      ],
      "text/plain": [
       "                        Время обучения, сек  Время предсказания, сек        F1\n",
       "LogisticRegression                43.782590                 0.155983  0.762521\n",
       "CatBoostClassifier               375.065120                 0.359143  0.740838\n",
       "DecisionTreeClassifier            12.502696                 0.034760  0.541217"
      ]
     },
     "execution_count": 17,
     "metadata": {},
     "output_type": "execute_result"
    }
   ],
   "source": [
    "# Сведу все полученные результаты в одном месте\n",
    "index = ['LogisticRegression',\n",
    "         'DecisionTreeClassifier',\n",
    "         'CatBoostClassifier']\n",
    "data = {'Время обучения, сек':[mean_fit_time_LR[2],\n",
    "                              mean_fit_time_DT[0],\n",
    "                              mean_fit_time_CB[2]],\n",
    "        'Время предсказания, сек':[mean_score_time_LR[2],\n",
    "                                  mean_score_time_DT[0],\n",
    "                                  mean_score_time_CB[2]],\n",
    "        'F1':[best_f1_LR,\n",
    "                best_f1_DT,\n",
    "                best_f1_CB]}\n",
    "scores_data = pd.DataFrame(data=data, index=index)\n",
    "scores_data.sort_values(by='F1',ascending=False)"
   ]
  },
  {
   "cell_type": "markdown",
   "metadata": {},
   "source": [
    "Я подобрал параметры у трех моделей с помощью GridSearch.\n",
    "\n",
    "Лучшая модель по метрике F1 - логистическая регрессия. Время обучения и предсказания приемлемое, лучше чем у CatBoost, самой долгой модели.\n",
    "\n",
    "Теперь проверю лучшую модель на тестовой выборке с применением лучших найденных параметров. На тестовой выборке проверю логистическую регрессию и оценю ее F1."
   ]
  },
  {
   "cell_type": "markdown",
   "metadata": {},
   "source": [
    "### Тестирование лучшей модели"
   ]
  },
  {
   "cell_type": "code",
   "execution_count": 18,
   "metadata": {
    "scrolled": true
   },
   "outputs": [
    {
     "name": "stdout",
     "output_type": "stream",
     "text": [
      "CPU times: user 9.2 ms, sys: 98 µs, total: 9.29 ms\n",
      "Wall time: 9.07 ms\n"
     ]
    },
    {
     "data": {
      "text/plain": [
       "0.7816411682892905"
      ]
     },
     "execution_count": 18,
     "metadata": {},
     "output_type": "execute_result"
    }
   ],
   "source": [
    "%%time\n",
    "\n",
    "# Обучение\n",
    "# model = LogisticRegression(C=5)\n",
    "# model.best_estimator_\n",
    "# model.fit(tf_idf, target_train)\n",
    "best_estimator = clf_LR.best_estimator_\n",
    "\n",
    "# Предсказание\n",
    "prediction_lr = best_estimator.predict(tf_idf_test)\n",
    "\n",
    "# Метрика RMSE\n",
    "final_f1_LR = f1_score(target_test, prediction_lr)\n",
    "final_f1_LR"
   ]
  },
  {
   "cell_type": "markdown",
   "metadata": {},
   "source": [
    "**Выводы**\n",
    "\n",
    "Метрика F1 на тестовых данных даже чуть улушилась."
   ]
  },
  {
   "cell_type": "markdown",
   "metadata": {},
   "source": [
    "## Выводы"
   ]
  },
  {
   "cell_type": "markdown",
   "metadata": {},
   "source": [
    "- Данные загружены и лемматизирован текстовой столбец\n",
    "- Проведел обучение трех моделей: LogisticRegression, DecisionTreeClassifier, CatBoostClassifier\n",
    "- Провел подбор параметров с помощью GridSearch\n",
    "- Лучшая модель - логистическая регрессия\n",
    "- На тестировании лучшей модели метрика F1 чуть-чуть улушилась"
   ]
  }
 ],
 "metadata": {
  "ExecuteTimeLog": [
   {
    "duration": 392,
    "start_time": "2024-04-26T14:13:27.071Z"
   },
   {
    "duration": 82,
    "start_time": "2024-04-26T14:13:48.238Z"
   },
   {
    "duration": 2365,
    "start_time": "2024-04-26T14:14:12.312Z"
   },
   {
    "duration": 853,
    "start_time": "2024-04-26T14:14:20.923Z"
   },
   {
    "duration": 832,
    "start_time": "2024-04-26T14:14:53.517Z"
   },
   {
    "duration": 6,
    "start_time": "2024-04-26T14:15:39.239Z"
   },
   {
    "duration": 1383,
    "start_time": "2024-04-26T14:19:35.961Z"
   },
   {
    "duration": 901,
    "start_time": "2024-04-26T14:19:37.345Z"
   },
   {
    "duration": 5,
    "start_time": "2024-04-26T14:19:40.045Z"
   },
   {
    "duration": 65,
    "start_time": "2024-04-26T14:19:41.350Z"
   },
   {
    "duration": 82834,
    "start_time": "2024-04-26T14:20:16.168Z"
   },
   {
    "duration": 838,
    "start_time": "2024-04-26T14:22:36.787Z"
   },
   {
    "duration": 4,
    "start_time": "2024-04-26T14:22:53.150Z"
   },
   {
    "duration": 813,
    "start_time": "2024-04-26T14:22:53.156Z"
   },
   {
    "duration": 5,
    "start_time": "2024-04-26T14:22:53.971Z"
   },
   {
    "duration": 83283,
    "start_time": "2024-04-26T14:22:57.075Z"
   },
   {
    "duration": 746,
    "start_time": "2024-04-26T14:25:22.787Z"
   },
   {
    "duration": 756,
    "start_time": "2024-04-26T14:25:35.577Z"
   },
   {
    "duration": 14,
    "start_time": "2024-04-26T14:25:40.506Z"
   },
   {
    "duration": 10,
    "start_time": "2024-04-26T14:26:14.948Z"
   },
   {
    "duration": 7,
    "start_time": "2024-04-26T14:26:16.680Z"
   },
   {
    "duration": 963,
    "start_time": "2024-04-26T14:26:18.507Z"
   },
   {
    "duration": 4,
    "start_time": "2024-04-26T14:26:24.484Z"
   },
   {
    "duration": 801,
    "start_time": "2024-04-26T14:26:24.489Z"
   },
   {
    "duration": 11,
    "start_time": "2024-04-26T14:26:25.292Z"
   },
   {
    "duration": 12,
    "start_time": "2024-04-26T14:26:25.305Z"
   },
   {
    "duration": 83048,
    "start_time": "2024-04-26T14:26:27.596Z"
   },
   {
    "duration": 182,
    "start_time": "2024-04-26T14:36:38.702Z"
   },
   {
    "duration": 341,
    "start_time": "2024-04-26T14:37:28.934Z"
   },
   {
    "duration": 6,
    "start_time": "2024-04-26T14:37:33.006Z"
   },
   {
    "duration": 771,
    "start_time": "2024-04-26T14:37:36.725Z"
   },
   {
    "duration": 5,
    "start_time": "2024-04-26T14:37:48.684Z"
   },
   {
    "duration": 868,
    "start_time": "2024-04-26T14:37:48.691Z"
   },
   {
    "duration": 12,
    "start_time": "2024-04-26T14:37:49.564Z"
   },
   {
    "duration": 203,
    "start_time": "2024-04-26T14:37:49.577Z"
   },
   {
    "duration": 1552,
    "start_time": "2024-04-26T14:38:12.160Z"
   },
   {
    "duration": 805,
    "start_time": "2024-04-26T14:38:13.714Z"
   },
   {
    "duration": 11,
    "start_time": "2024-04-26T14:38:14.520Z"
   },
   {
    "duration": 209,
    "start_time": "2024-04-26T14:38:14.532Z"
   },
   {
    "duration": 5,
    "start_time": "2024-04-26T14:38:14.743Z"
   },
   {
    "duration": 82641,
    "start_time": "2024-04-26T14:38:14.749Z"
   },
   {
    "duration": 4,
    "start_time": "2024-04-26T18:01:54.616Z"
   },
   {
    "duration": 125,
    "start_time": "2024-04-26T18:02:35.929Z"
   },
   {
    "duration": 42,
    "start_time": "2024-04-26T18:04:01.487Z"
   },
   {
    "duration": 26,
    "start_time": "2024-04-26T18:04:06.207Z"
   },
   {
    "duration": 528,
    "start_time": "2024-04-26T18:04:24.970Z"
   },
   {
    "duration": 10,
    "start_time": "2024-04-26T18:05:38.906Z"
   },
   {
    "duration": 12,
    "start_time": "2024-04-26T18:27:42.883Z"
   },
   {
    "duration": 544,
    "start_time": "2024-04-26T18:27:54.883Z"
   },
   {
    "duration": 939,
    "start_time": "2024-04-26T18:29:06.356Z"
   },
   {
    "duration": 525,
    "start_time": "2024-04-26T18:29:50.272Z"
   },
   {
    "duration": 589,
    "start_time": "2024-04-26T18:29:57.471Z"
   },
   {
    "duration": 24,
    "start_time": "2024-04-26T18:30:16.784Z"
   },
   {
    "duration": 29,
    "start_time": "2024-04-26T18:30:21.652Z"
   },
   {
    "duration": 26,
    "start_time": "2024-04-26T18:30:26.064Z"
   },
   {
    "duration": 27,
    "start_time": "2024-04-26T18:30:29.912Z"
   },
   {
    "duration": 551,
    "start_time": "2024-04-26T18:30:32.733Z"
   },
   {
    "duration": 5,
    "start_time": "2024-04-26T18:30:55.670Z"
   },
   {
    "duration": 4,
    "start_time": "2024-04-26T18:31:00.346Z"
   },
   {
    "duration": 9853,
    "start_time": "2024-04-26T18:31:18.893Z"
   },
   {
    "duration": 11004,
    "start_time": "2024-04-26T18:31:43.522Z"
   },
   {
    "duration": 7,
    "start_time": "2024-04-26T18:32:05.510Z"
   },
   {
    "duration": 10918,
    "start_time": "2024-04-26T18:32:35.291Z"
   },
   {
    "duration": 1063472,
    "start_time": "2024-04-26T18:33:17.119Z"
   },
   {
    "duration": 1945,
    "start_time": "2024-04-27T11:22:51.600Z"
   },
   {
    "duration": 3324,
    "start_time": "2024-04-27T11:22:53.547Z"
   },
   {
    "duration": 11,
    "start_time": "2024-04-27T11:22:56.873Z"
   },
   {
    "duration": 218,
    "start_time": "2024-04-27T11:22:56.886Z"
   },
   {
    "duration": 9,
    "start_time": "2024-04-27T11:22:57.106Z"
   },
   {
    "duration": 88357,
    "start_time": "2024-04-27T11:22:57.117Z"
   },
   {
    "duration": 11880,
    "start_time": "2024-04-27T11:24:25.476Z"
   },
   {
    "duration": 1685,
    "start_time": "2024-04-27T11:39:50.290Z"
   },
   {
    "duration": 950,
    "start_time": "2024-04-27T11:39:51.977Z"
   },
   {
    "duration": 12,
    "start_time": "2024-04-27T11:39:52.929Z"
   },
   {
    "duration": 235,
    "start_time": "2024-04-27T11:39:52.942Z"
   },
   {
    "duration": 7,
    "start_time": "2024-04-27T11:39:53.179Z"
   },
   {
    "duration": 88319,
    "start_time": "2024-04-27T11:39:53.188Z"
   },
   {
    "duration": 11755,
    "start_time": "2024-04-27T11:41:21.515Z"
   },
   {
    "duration": 1045364,
    "start_time": "2024-04-27T11:41:33.271Z"
   },
   {
    "duration": 50,
    "start_time": "2024-04-28T13:32:07.269Z"
   },
   {
    "duration": 1869,
    "start_time": "2024-04-28T13:32:11.361Z"
   },
   {
    "duration": 3262,
    "start_time": "2024-04-28T13:32:13.232Z"
   },
   {
    "duration": 12,
    "start_time": "2024-04-28T13:32:16.496Z"
   },
   {
    "duration": 228,
    "start_time": "2024-04-28T13:32:16.509Z"
   },
   {
    "duration": 7,
    "start_time": "2024-04-28T13:32:16.738Z"
   },
   {
    "duration": 90947,
    "start_time": "2024-04-28T13:32:16.746Z"
   },
   {
    "duration": 11441,
    "start_time": "2024-04-28T13:33:47.695Z"
   },
   {
    "duration": 1725,
    "start_time": "2024-04-28T13:45:56.587Z"
   },
   {
    "duration": 940,
    "start_time": "2024-04-28T13:45:58.313Z"
   },
   {
    "duration": 11,
    "start_time": "2024-04-28T13:45:59.255Z"
   },
   {
    "duration": 226,
    "start_time": "2024-04-28T13:45:59.268Z"
   },
   {
    "duration": 6,
    "start_time": "2024-04-28T13:45:59.497Z"
   },
   {
    "duration": 84637,
    "start_time": "2024-04-28T13:45:59.505Z"
   },
   {
    "duration": 11300,
    "start_time": "2024-04-28T13:47:24.144Z"
   },
   {
    "duration": 1761,
    "start_time": "2024-04-28T13:53:24.936Z"
   },
   {
    "duration": 967,
    "start_time": "2024-04-28T13:53:26.698Z"
   },
   {
    "duration": 16,
    "start_time": "2024-04-28T13:53:27.667Z"
   },
   {
    "duration": 226,
    "start_time": "2024-04-28T13:53:27.685Z"
   },
   {
    "duration": 6,
    "start_time": "2024-04-28T13:53:27.912Z"
   },
   {
    "duration": 92417,
    "start_time": "2024-04-28T13:53:27.919Z"
   },
   {
    "duration": 11578,
    "start_time": "2024-04-28T13:55:00.337Z"
   },
   {
    "duration": 1890,
    "start_time": "2024-04-28T14:02:03.442Z"
   },
   {
    "duration": 1056,
    "start_time": "2024-04-28T14:02:05.333Z"
   },
   {
    "duration": 20,
    "start_time": "2024-04-28T14:02:06.391Z"
   },
   {
    "duration": 279,
    "start_time": "2024-04-28T14:02:06.413Z"
   },
   {
    "duration": 8,
    "start_time": "2024-04-28T14:02:06.695Z"
   },
   {
    "duration": 107873,
    "start_time": "2024-04-28T14:02:06.704Z"
   },
   {
    "duration": 12921,
    "start_time": "2024-04-28T14:03:54.581Z"
   },
   {
    "duration": 1841,
    "start_time": "2024-04-28T14:10:18.098Z"
   },
   {
    "duration": 1059,
    "start_time": "2024-04-28T14:10:19.941Z"
   },
   {
    "duration": 12,
    "start_time": "2024-04-28T14:10:21.002Z"
   },
   {
    "duration": 249,
    "start_time": "2024-04-28T14:10:21.015Z"
   },
   {
    "duration": 11,
    "start_time": "2024-04-28T14:10:21.267Z"
   },
   {
    "duration": 104321,
    "start_time": "2024-04-28T14:10:21.285Z"
   },
   {
    "duration": 12716,
    "start_time": "2024-04-28T14:12:05.608Z"
   },
   {
    "duration": 626175,
    "start_time": "2024-04-28T14:12:18.326Z"
   },
   {
    "duration": 0,
    "start_time": "2024-04-28T14:22:44.503Z"
   },
   {
    "duration": 0,
    "start_time": "2024-04-28T14:22:44.504Z"
   },
   {
    "duration": 713042,
    "start_time": "2024-04-28T14:23:29.033Z"
   },
   {
    "duration": 70916,
    "start_time": "2024-04-28T14:35:43.199Z"
   },
   {
    "duration": 1712,
    "start_time": "2024-04-28T15:04:25.601Z"
   },
   {
    "duration": 931,
    "start_time": "2024-04-28T15:04:27.314Z"
   },
   {
    "duration": 11,
    "start_time": "2024-04-28T15:04:28.247Z"
   },
   {
    "duration": 221,
    "start_time": "2024-04-28T15:04:28.260Z"
   },
   {
    "duration": 5,
    "start_time": "2024-04-28T15:04:28.483Z"
   },
   {
    "duration": 85082,
    "start_time": "2024-04-28T15:04:28.489Z"
   },
   {
    "duration": 11126,
    "start_time": "2024-04-28T15:05:53.575Z"
   },
   {
    "duration": 726174,
    "start_time": "2024-04-28T15:06:04.703Z"
   },
   {
    "duration": 74172,
    "start_time": "2024-04-28T15:18:10.879Z"
   },
   {
    "duration": 4762236,
    "start_time": "2024-04-28T15:19:25.053Z"
   },
   {
    "duration": 132,
    "start_time": "2024-04-28T16:38:47.290Z"
   },
   {
    "duration": 15,
    "start_time": "2024-04-28T17:07:52.864Z"
   },
   {
    "duration": 11,
    "start_time": "2024-04-28T17:08:01.599Z"
   },
   {
    "duration": 14,
    "start_time": "2024-04-28T17:11:36.062Z"
   },
   {
    "duration": 11,
    "start_time": "2024-04-28T18:18:29.384Z"
   },
   {
    "duration": 85,
    "start_time": "2024-04-28T18:34:40.339Z"
   },
   {
    "duration": 12,
    "start_time": "2024-04-28T18:36:17.387Z"
   },
   {
    "duration": 47743,
    "start_time": "2024-04-28T18:36:24.057Z"
   },
   {
    "duration": 49081,
    "start_time": "2024-04-28T18:37:26.400Z"
   },
   {
    "duration": 1938,
    "start_time": "2024-04-28T18:46:41.969Z"
   },
   {
    "duration": 1181,
    "start_time": "2024-04-28T18:46:43.909Z"
   },
   {
    "duration": 22,
    "start_time": "2024-04-28T18:46:45.096Z"
   },
   {
    "duration": 304,
    "start_time": "2024-04-28T18:46:45.120Z"
   },
   {
    "duration": 5,
    "start_time": "2024-04-28T18:46:45.426Z"
   },
   {
    "duration": 116182,
    "start_time": "2024-04-28T18:46:45.433Z"
   },
   {
    "duration": 13582,
    "start_time": "2024-04-28T18:48:41.617Z"
   },
   {
    "duration": 771091,
    "start_time": "2024-04-28T18:48:55.200Z"
   },
   {
    "duration": 85397,
    "start_time": "2024-04-28T19:01:46.299Z"
   },
   {
    "duration": 4731103,
    "start_time": "2024-04-28T19:03:11.698Z"
   },
   {
    "duration": 11,
    "start_time": "2024-04-28T20:22:02.803Z"
   },
   {
    "duration": 48571,
    "start_time": "2024-04-28T20:22:02.816Z"
   },
   {
    "duration": 51,
    "start_time": "2024-04-29T14:09:21.837Z"
   },
   {
    "duration": 1593,
    "start_time": "2024-04-29T14:09:24.527Z"
   },
   {
    "duration": 2345,
    "start_time": "2024-04-29T14:09:28.818Z"
   },
   {
    "duration": 2,
    "start_time": "2024-04-29T14:09:45.632Z"
   },
   {
    "duration": 46,
    "start_time": "2024-04-29T14:10:12.772Z"
   },
   {
    "duration": 197,
    "start_time": "2024-04-29T14:10:33.217Z"
   },
   {
    "duration": 5,
    "start_time": "2024-04-29T14:10:34.191Z"
   },
   {
    "duration": 154,
    "start_time": "2024-04-29T14:12:31.771Z"
   },
   {
    "duration": 122,
    "start_time": "2024-04-29T14:12:42.884Z"
   },
   {
    "duration": 100,
    "start_time": "2024-04-29T14:13:13.281Z"
   },
   {
    "duration": 119,
    "start_time": "2024-04-29T14:13:22.771Z"
   },
   {
    "duration": 125,
    "start_time": "2024-04-29T14:13:39.470Z"
   },
   {
    "duration": 126,
    "start_time": "2024-04-29T14:13:52.716Z"
   },
   {
    "duration": 147,
    "start_time": "2024-04-29T14:14:17.122Z"
   },
   {
    "duration": 6,
    "start_time": "2024-04-29T14:14:42.228Z"
   },
   {
    "duration": 40,
    "start_time": "2024-04-29T14:15:00.691Z"
   },
   {
    "duration": 5,
    "start_time": "2024-04-29T14:15:07.989Z"
   },
   {
    "duration": 169,
    "start_time": "2024-04-29T14:15:14.490Z"
   },
   {
    "duration": 117,
    "start_time": "2024-04-29T14:15:32.666Z"
   },
   {
    "duration": 143,
    "start_time": "2024-04-29T14:15:41.291Z"
   },
   {
    "duration": 138,
    "start_time": "2024-04-29T14:16:35.361Z"
   },
   {
    "duration": 118,
    "start_time": "2024-04-29T14:16:40.877Z"
   },
   {
    "duration": 209,
    "start_time": "2024-04-29T14:16:47.413Z"
   },
   {
    "duration": 129,
    "start_time": "2024-04-29T14:16:52.476Z"
   },
   {
    "duration": 130,
    "start_time": "2024-04-29T14:17:35.533Z"
   },
   {
    "duration": 125,
    "start_time": "2024-04-29T14:17:41.002Z"
   },
   {
    "duration": 6,
    "start_time": "2024-04-29T14:18:14.768Z"
   },
   {
    "duration": 7,
    "start_time": "2024-04-29T14:18:19.108Z"
   },
   {
    "duration": 124,
    "start_time": "2024-04-29T14:18:27.988Z"
   },
   {
    "duration": 138,
    "start_time": "2024-04-29T14:18:37.791Z"
   },
   {
    "duration": 96,
    "start_time": "2024-04-29T14:19:20.016Z"
   },
   {
    "duration": 8,
    "start_time": "2024-04-29T14:19:27.142Z"
   },
   {
    "duration": 8,
    "start_time": "2024-04-29T14:19:31.028Z"
   },
   {
    "duration": 135,
    "start_time": "2024-04-29T14:19:39.356Z"
   },
   {
    "duration": 176,
    "start_time": "2024-04-29T14:19:49.923Z"
   },
   {
    "duration": 112,
    "start_time": "2024-04-29T14:19:56.174Z"
   },
   {
    "duration": 97,
    "start_time": "2024-04-29T14:20:20.868Z"
   },
   {
    "duration": 105,
    "start_time": "2024-04-29T14:20:57.991Z"
   },
   {
    "duration": 128,
    "start_time": "2024-04-29T14:21:38.963Z"
   },
   {
    "duration": 119,
    "start_time": "2024-04-29T14:22:06.441Z"
   },
   {
    "duration": 117,
    "start_time": "2024-04-29T14:24:42.308Z"
   },
   {
    "duration": 107,
    "start_time": "2024-04-29T14:25:22.869Z"
   },
   {
    "duration": 111,
    "start_time": "2024-04-29T14:25:36.603Z"
   },
   {
    "duration": 193,
    "start_time": "2024-04-29T14:25:41.303Z"
   },
   {
    "duration": 102,
    "start_time": "2024-04-29T14:25:54.181Z"
   },
   {
    "duration": 849,
    "start_time": "2024-04-29T14:26:12.258Z"
   },
   {
    "duration": 813,
    "start_time": "2024-04-29T14:26:20.076Z"
   },
   {
    "duration": 49,
    "start_time": "2024-04-29T14:27:10.628Z"
   },
   {
    "duration": 10,
    "start_time": "2024-04-29T14:35:37.821Z"
   },
   {
    "duration": 7,
    "start_time": "2024-04-29T14:36:06.860Z"
   },
   {
    "duration": 3,
    "start_time": "2024-04-29T14:36:16.382Z"
   },
   {
    "duration": 1215,
    "start_time": "2024-04-29T14:36:42.251Z"
   },
   {
    "duration": 8,
    "start_time": "2024-04-29T14:36:59.492Z"
   },
   {
    "duration": 5,
    "start_time": "2024-04-29T14:38:28.281Z"
   },
   {
    "duration": 6,
    "start_time": "2024-04-29T14:38:35.933Z"
   },
   {
    "duration": 13,
    "start_time": "2024-04-29T14:38:59.806Z"
   },
   {
    "duration": 13,
    "start_time": "2024-04-29T14:39:10.167Z"
   },
   {
    "duration": 12,
    "start_time": "2024-04-29T14:39:28.835Z"
   },
   {
    "duration": 12,
    "start_time": "2024-04-29T14:39:48.240Z"
   },
   {
    "duration": 6,
    "start_time": "2024-04-29T14:39:59.079Z"
   },
   {
    "duration": 17,
    "start_time": "2024-04-29T14:40:13.268Z"
   },
   {
    "duration": 6,
    "start_time": "2024-04-29T14:41:04.900Z"
   },
   {
    "duration": 10,
    "start_time": "2024-04-29T14:41:28.802Z"
   },
   {
    "duration": 11,
    "start_time": "2024-04-29T14:42:46.939Z"
   },
   {
    "duration": 18,
    "start_time": "2024-04-29T14:44:22.433Z"
   },
   {
    "duration": 13,
    "start_time": "2024-04-29T14:44:34.823Z"
   },
   {
    "duration": 8,
    "start_time": "2024-04-29T14:46:25.359Z"
   },
   {
    "duration": 3,
    "start_time": "2024-04-29T14:49:39.978Z"
   },
   {
    "duration": 190,
    "start_time": "2024-04-29T14:49:41.712Z"
   },
   {
    "duration": 2468,
    "start_time": "2024-04-29T14:51:13.865Z"
   },
   {
    "duration": 244,
    "start_time": "2024-04-29T14:51:43.381Z"
   },
   {
    "duration": 588,
    "start_time": "2024-04-29T14:52:15.884Z"
   },
   {
    "duration": 4,
    "start_time": "2024-04-29T14:59:35.949Z"
   },
   {
    "duration": 640,
    "start_time": "2024-04-29T14:59:42.350Z"
   },
   {
    "duration": 8,
    "start_time": "2024-04-29T15:00:30.020Z"
   },
   {
    "duration": 17,
    "start_time": "2024-04-29T15:00:49.504Z"
   },
   {
    "duration": 930,
    "start_time": "2024-04-29T15:01:43.549Z"
   },
   {
    "duration": 956,
    "start_time": "2024-04-29T15:01:49.500Z"
   },
   {
    "duration": 672,
    "start_time": "2024-04-29T15:02:13.647Z"
   },
   {
    "duration": 4,
    "start_time": "2024-04-29T15:05:37.625Z"
   },
   {
    "duration": 813,
    "start_time": "2024-04-29T15:05:39.583Z"
   },
   {
    "duration": 3,
    "start_time": "2024-04-29T15:05:46.627Z"
   },
   {
    "duration": 816,
    "start_time": "2024-04-29T15:05:47.963Z"
   },
   {
    "duration": 2,
    "start_time": "2024-04-29T15:06:17.585Z"
   },
   {
    "duration": 8,
    "start_time": "2024-04-29T15:07:47.627Z"
   },
   {
    "duration": 5,
    "start_time": "2024-04-29T15:07:54.776Z"
   },
   {
    "duration": 5,
    "start_time": "2024-04-29T15:07:59.397Z"
   },
   {
    "duration": 4,
    "start_time": "2024-04-29T15:08:19.830Z"
   },
   {
    "duration": 884,
    "start_time": "2024-04-29T15:08:20.457Z"
   },
   {
    "duration": 5,
    "start_time": "2024-04-29T15:09:23.109Z"
   },
   {
    "duration": 3826,
    "start_time": "2024-04-29T16:11:08.891Z"
   },
   {
    "duration": 877,
    "start_time": "2024-04-29T16:11:17.053Z"
   },
   {
    "duration": 2,
    "start_time": "2024-04-29T16:11:22.434Z"
   },
   {
    "duration": 209,
    "start_time": "2024-04-29T16:11:23.170Z"
   },
   {
    "duration": 5,
    "start_time": "2024-04-29T16:11:23.988Z"
   },
   {
    "duration": 126,
    "start_time": "2024-04-29T16:11:27.593Z"
   },
   {
    "duration": 2,
    "start_time": "2024-04-29T16:11:31.316Z"
   },
   {
    "duration": 305,
    "start_time": "2024-04-29T16:11:32.144Z"
   },
   {
    "duration": 152,
    "start_time": "2024-04-29T16:12:11.366Z"
   },
   {
    "duration": 6,
    "start_time": "2024-04-29T16:12:17.356Z"
   },
   {
    "duration": 891,
    "start_time": "2024-04-29T16:12:22.307Z"
   },
   {
    "duration": 3914,
    "start_time": "2024-04-29T16:18:49.740Z"
   },
   {
    "duration": 866,
    "start_time": "2024-04-29T16:18:53.656Z"
   },
   {
    "duration": 2,
    "start_time": "2024-04-29T16:18:54.523Z"
   },
   {
    "duration": 213,
    "start_time": "2024-04-29T16:18:54.527Z"
   },
   {
    "duration": 6,
    "start_time": "2024-04-29T16:18:54.742Z"
   },
   {
    "duration": 136,
    "start_time": "2024-04-29T16:18:54.750Z"
   },
   {
    "duration": 3,
    "start_time": "2024-04-29T16:18:54.888Z"
   },
   {
    "duration": 13,
    "start_time": "2024-04-29T16:18:54.893Z"
   },
   {
    "duration": 891,
    "start_time": "2024-04-29T16:18:54.908Z"
   },
   {
    "duration": 307,
    "start_time": "2024-04-29T16:19:53.167Z"
   },
   {
    "duration": 19,
    "start_time": "2024-04-29T16:20:01.350Z"
   },
   {
    "duration": 20,
    "start_time": "2024-04-29T16:20:23.232Z"
   },
   {
    "duration": 4637,
    "start_time": "2024-04-29T16:22:35.842Z"
   },
   {
    "duration": 29,
    "start_time": "2024-04-29T16:22:44.079Z"
   },
   {
    "duration": 17,
    "start_time": "2024-04-29T16:22:48.780Z"
   },
   {
    "duration": 17,
    "start_time": "2024-04-29T16:26:35.154Z"
   },
   {
    "duration": 18,
    "start_time": "2024-04-29T16:26:55.802Z"
   },
   {
    "duration": 636,
    "start_time": "2024-04-29T16:28:26.108Z"
   },
   {
    "duration": 940,
    "start_time": "2024-04-29T16:28:40.255Z"
   },
   {
    "duration": 910,
    "start_time": "2024-04-29T16:29:10.970Z"
   },
   {
    "duration": 17,
    "start_time": "2024-04-29T16:29:22.330Z"
   },
   {
    "duration": 16,
    "start_time": "2024-04-29T16:29:35.076Z"
   },
   {
    "duration": 18,
    "start_time": "2024-04-29T16:30:07.803Z"
   },
   {
    "duration": 16,
    "start_time": "2024-04-29T16:30:28.218Z"
   },
   {
    "duration": 18,
    "start_time": "2024-04-29T16:30:34.335Z"
   },
   {
    "duration": 17,
    "start_time": "2024-04-29T16:30:43.212Z"
   },
   {
    "duration": 17,
    "start_time": "2024-04-29T16:30:47.976Z"
   },
   {
    "duration": 58,
    "start_time": "2024-04-29T16:33:02.372Z"
   },
   {
    "duration": 16,
    "start_time": "2024-04-29T16:33:47.168Z"
   },
   {
    "duration": 41,
    "start_time": "2024-04-29T16:35:26.028Z"
   },
   {
    "duration": 47,
    "start_time": "2024-04-29T16:35:32.293Z"
   },
   {
    "duration": 690,
    "start_time": "2024-04-29T16:35:37.617Z"
   },
   {
    "duration": 69,
    "start_time": "2024-04-29T16:35:53.545Z"
   },
   {
    "duration": 3874,
    "start_time": "2024-04-29T16:36:43.742Z"
   },
   {
    "duration": 861,
    "start_time": "2024-04-29T16:36:47.618Z"
   },
   {
    "duration": 3,
    "start_time": "2024-04-29T16:36:48.481Z"
   },
   {
    "duration": 219,
    "start_time": "2024-04-29T16:36:48.485Z"
   },
   {
    "duration": 5,
    "start_time": "2024-04-29T16:36:48.706Z"
   },
   {
    "duration": 127,
    "start_time": "2024-04-29T16:36:48.712Z"
   },
   {
    "duration": 2,
    "start_time": "2024-04-29T16:36:48.841Z"
   },
   {
    "duration": 20,
    "start_time": "2024-04-29T16:36:48.845Z"
   },
   {
    "duration": 953,
    "start_time": "2024-04-29T16:36:48.867Z"
   },
   {
    "duration": 10,
    "start_time": "2024-04-29T16:36:49.821Z"
   },
   {
    "duration": 44,
    "start_time": "2024-04-29T16:37:46.985Z"
   },
   {
    "duration": 3810,
    "start_time": "2024-04-29T16:37:50.863Z"
   },
   {
    "duration": 833,
    "start_time": "2024-04-29T16:37:54.675Z"
   },
   {
    "duration": 3,
    "start_time": "2024-04-29T16:37:55.509Z"
   },
   {
    "duration": 211,
    "start_time": "2024-04-29T16:37:55.513Z"
   },
   {
    "duration": 5,
    "start_time": "2024-04-29T16:37:55.726Z"
   },
   {
    "duration": 167,
    "start_time": "2024-04-29T16:37:55.732Z"
   },
   {
    "duration": 3,
    "start_time": "2024-04-29T16:37:55.901Z"
   },
   {
    "duration": 9,
    "start_time": "2024-04-29T16:37:55.905Z"
   },
   {
    "duration": 267,
    "start_time": "2024-04-29T16:37:57.072Z"
   },
   {
    "duration": 18,
    "start_time": "2024-04-29T16:39:46.527Z"
   },
   {
    "duration": 16,
    "start_time": "2024-04-29T16:40:09.320Z"
   },
   {
    "duration": 18,
    "start_time": "2024-04-29T16:40:17.549Z"
   },
   {
    "duration": 3950,
    "start_time": "2024-04-29T18:29:35.311Z"
   },
   {
    "duration": 895,
    "start_time": "2024-04-29T18:29:39.262Z"
   },
   {
    "duration": 6,
    "start_time": "2024-04-29T18:29:40.159Z"
   },
   {
    "duration": 220,
    "start_time": "2024-04-29T18:29:40.166Z"
   },
   {
    "duration": 5,
    "start_time": "2024-04-29T18:29:40.388Z"
   },
   {
    "duration": 140,
    "start_time": "2024-04-29T18:29:40.394Z"
   },
   {
    "duration": 2,
    "start_time": "2024-04-29T18:29:40.536Z"
   },
   {
    "duration": 5,
    "start_time": "2024-04-29T18:29:40.539Z"
   },
   {
    "duration": 308,
    "start_time": "2024-04-29T18:29:40.545Z"
   },
   {
    "duration": 4,
    "start_time": "2024-04-29T18:31:14.968Z"
   },
   {
    "duration": 18,
    "start_time": "2024-04-29T18:31:18.434Z"
   },
   {
    "duration": 18,
    "start_time": "2024-04-29T18:35:11.432Z"
   },
   {
    "duration": 55,
    "start_time": "2024-04-29T18:35:34.260Z"
   },
   {
    "duration": 11,
    "start_time": "2024-04-29T18:35:46.136Z"
   },
   {
    "duration": 14935,
    "start_time": "2024-04-29T18:35:49.794Z"
   },
   {
    "duration": 1235,
    "start_time": "2024-04-29T18:36:08.450Z"
   },
   {
    "duration": 7,
    "start_time": "2024-04-29T18:36:46.101Z"
   },
   {
    "duration": 1198,
    "start_time": "2024-04-29T18:37:04.184Z"
   },
   {
    "duration": 3974,
    "start_time": "2024-04-29T18:43:03.703Z"
   },
   {
    "duration": 9,
    "start_time": "2024-04-29T18:43:09.731Z"
   },
   {
    "duration": 831,
    "start_time": "2024-04-29T18:43:14.453Z"
   },
   {
    "duration": 3,
    "start_time": "2024-04-29T18:43:19.166Z"
   },
   {
    "duration": 200,
    "start_time": "2024-04-29T18:43:19.504Z"
   },
   {
    "duration": 6,
    "start_time": "2024-04-29T18:43:19.875Z"
   },
   {
    "duration": 123,
    "start_time": "2024-04-29T18:43:20.978Z"
   },
   {
    "duration": 3,
    "start_time": "2024-04-29T18:43:22.732Z"
   },
   {
    "duration": 3,
    "start_time": "2024-04-29T18:43:23.487Z"
   },
   {
    "duration": 1185,
    "start_time": "2024-04-29T18:43:25.220Z"
   },
   {
    "duration": 4220,
    "start_time": "2024-04-29T19:55:57.032Z"
   },
   {
    "duration": 911,
    "start_time": "2024-04-29T19:56:01.254Z"
   },
   {
    "duration": 2,
    "start_time": "2024-04-29T19:56:05.505Z"
   },
   {
    "duration": 210,
    "start_time": "2024-04-29T19:56:05.797Z"
   },
   {
    "duration": 5,
    "start_time": "2024-04-29T19:56:06.032Z"
   },
   {
    "duration": 117,
    "start_time": "2024-04-29T19:56:06.309Z"
   },
   {
    "duration": 2,
    "start_time": "2024-04-29T19:56:09.406Z"
   },
   {
    "duration": 4,
    "start_time": "2024-04-29T19:56:11.287Z"
   },
   {
    "duration": 1184,
    "start_time": "2024-04-29T19:56:11.824Z"
   },
   {
    "duration": 1137,
    "start_time": "2024-04-29T19:56:42.278Z"
   },
   {
    "duration": 64,
    "start_time": "2024-04-29T19:59:58.168Z"
   },
   {
    "duration": 3980,
    "start_time": "2024-04-29T20:02:36.120Z"
   },
   {
    "duration": 833,
    "start_time": "2024-04-29T20:02:40.102Z"
   },
   {
    "duration": 2,
    "start_time": "2024-04-29T20:02:40.937Z"
   },
   {
    "duration": 204,
    "start_time": "2024-04-29T20:02:40.940Z"
   },
   {
    "duration": 5,
    "start_time": "2024-04-29T20:02:41.146Z"
   },
   {
    "duration": 122,
    "start_time": "2024-04-29T20:02:41.164Z"
   },
   {
    "duration": 2,
    "start_time": "2024-04-29T20:02:41.288Z"
   },
   {
    "duration": 12,
    "start_time": "2024-04-29T20:02:41.291Z"
   },
   {
    "duration": 1204,
    "start_time": "2024-04-29T20:02:44.266Z"
   },
   {
    "duration": 103,
    "start_time": "2024-04-30T00:04:18.616Z"
   },
   {
    "duration": 4172,
    "start_time": "2024-04-30T00:04:56.523Z"
   },
   {
    "duration": 860,
    "start_time": "2024-04-30T00:05:00.697Z"
   },
   {
    "duration": 3,
    "start_time": "2024-04-30T00:05:01.558Z"
   },
   {
    "duration": 240,
    "start_time": "2024-04-30T00:05:01.565Z"
   },
   {
    "duration": 5,
    "start_time": "2024-04-30T00:05:01.807Z"
   },
   {
    "duration": 161,
    "start_time": "2024-04-30T00:05:01.814Z"
   },
   {
    "duration": 3,
    "start_time": "2024-04-30T00:05:01.976Z"
   },
   {
    "duration": 14,
    "start_time": "2024-04-30T00:05:01.980Z"
   },
   {
    "duration": 4,
    "start_time": "2024-04-30T00:05:03.919Z"
   },
   {
    "duration": 768,
    "start_time": "2024-04-30T00:05:20.702Z"
   },
   {
    "duration": 7,
    "start_time": "2024-04-30T00:05:55.994Z"
   },
   {
    "duration": 3,
    "start_time": "2024-04-30T00:06:03.248Z"
   },
   {
    "duration": 1399,
    "start_time": "2024-04-30T00:06:04.823Z"
   },
   {
    "duration": 223,
    "start_time": "2024-04-30T00:06:39.579Z"
   },
   {
    "duration": 3,
    "start_time": "2024-04-30T00:06:59.506Z"
   },
   {
    "duration": 170,
    "start_time": "2024-04-30T00:07:00.141Z"
   },
   {
    "duration": 675,
    "start_time": "2024-04-30T00:07:11.123Z"
   },
   {
    "duration": 4,
    "start_time": "2024-04-30T00:07:33.322Z"
   },
   {
    "duration": 220,
    "start_time": "2024-04-30T00:07:38.368Z"
   },
   {
    "duration": 104,
    "start_time": "2024-04-30T00:07:40.910Z"
   },
   {
    "duration": 4380,
    "start_time": "2024-04-30T00:08:02.108Z"
   },
   {
    "duration": 850,
    "start_time": "2024-04-30T00:08:06.490Z"
   },
   {
    "duration": 3,
    "start_time": "2024-04-30T00:08:07.341Z"
   },
   {
    "duration": 208,
    "start_time": "2024-04-30T00:08:07.345Z"
   },
   {
    "duration": 13,
    "start_time": "2024-04-30T00:08:07.555Z"
   },
   {
    "duration": 123,
    "start_time": "2024-04-30T00:08:07.570Z"
   },
   {
    "duration": 2,
    "start_time": "2024-04-30T00:08:07.695Z"
   },
   {
    "duration": 9,
    "start_time": "2024-04-30T00:08:07.698Z"
   },
   {
    "duration": 3,
    "start_time": "2024-04-30T00:08:07.709Z"
   },
   {
    "duration": 3384,
    "start_time": "2024-04-30T00:08:11.007Z"
   },
   {
    "duration": 175196,
    "start_time": "2024-04-30T00:08:29.296Z"
   },
   {
    "duration": 0,
    "start_time": "2024-04-30T00:11:24.494Z"
   },
   {
    "duration": 4,
    "start_time": "2024-04-30T00:15:16.212Z"
   },
   {
    "duration": 50,
    "start_time": "2024-04-30T00:15:17.093Z"
   },
   {
    "duration": 3984,
    "start_time": "2024-04-30T00:15:33.981Z"
   },
   {
    "duration": 837,
    "start_time": "2024-04-30T00:15:37.967Z"
   },
   {
    "duration": 2,
    "start_time": "2024-04-30T00:15:38.806Z"
   },
   {
    "duration": 215,
    "start_time": "2024-04-30T00:15:38.809Z"
   },
   {
    "duration": 5,
    "start_time": "2024-04-30T00:15:39.027Z"
   },
   {
    "duration": 119,
    "start_time": "2024-04-30T00:15:39.033Z"
   },
   {
    "duration": 2,
    "start_time": "2024-04-30T00:15:39.154Z"
   },
   {
    "duration": 6,
    "start_time": "2024-04-30T00:15:39.164Z"
   },
   {
    "duration": 10,
    "start_time": "2024-04-30T00:15:39.172Z"
   },
   {
    "duration": 3,
    "start_time": "2024-04-30T00:15:43.205Z"
   },
   {
    "duration": 549,
    "start_time": "2024-04-30T00:15:43.898Z"
   },
   {
    "duration": 5,
    "start_time": "2024-04-30T00:16:34.009Z"
   },
   {
    "duration": 273,
    "start_time": "2024-04-30T00:16:37.336Z"
   },
   {
    "duration": 405,
    "start_time": "2024-04-30T00:17:02.472Z"
   },
   {
    "duration": 3559,
    "start_time": "2024-04-30T00:17:07.032Z"
   },
   {
    "duration": 258,
    "start_time": "2024-04-30T00:17:23.969Z"
   },
   {
    "duration": 12,
    "start_time": "2024-04-30T00:17:53.085Z"
   },
   {
    "duration": 4119,
    "start_time": "2024-04-30T00:18:09.115Z"
   },
   {
    "duration": 833,
    "start_time": "2024-04-30T00:18:13.236Z"
   },
   {
    "duration": 2,
    "start_time": "2024-04-30T00:18:14.071Z"
   },
   {
    "duration": 205,
    "start_time": "2024-04-30T00:18:14.075Z"
   },
   {
    "duration": 6,
    "start_time": "2024-04-30T00:18:14.281Z"
   },
   {
    "duration": 135,
    "start_time": "2024-04-30T00:18:14.288Z"
   },
   {
    "duration": 2,
    "start_time": "2024-04-30T00:18:14.425Z"
   },
   {
    "duration": 7,
    "start_time": "2024-04-30T00:18:14.429Z"
   },
   {
    "duration": 4,
    "start_time": "2024-04-30T00:18:14.437Z"
   },
   {
    "duration": 3483,
    "start_time": "2024-04-30T00:18:17.984Z"
   },
   {
    "duration": 412,
    "start_time": "2024-04-30T00:18:24.445Z"
   },
   {
    "duration": 65,
    "start_time": "2024-04-30T00:19:24.251Z"
   },
   {
    "duration": 4203,
    "start_time": "2024-04-30T00:19:42.493Z"
   },
   {
    "duration": 811,
    "start_time": "2024-04-30T00:19:46.698Z"
   },
   {
    "duration": 2,
    "start_time": "2024-04-30T00:19:47.510Z"
   },
   {
    "duration": 203,
    "start_time": "2024-04-30T00:19:47.514Z"
   },
   {
    "duration": 5,
    "start_time": "2024-04-30T00:19:47.719Z"
   },
   {
    "duration": 130,
    "start_time": "2024-04-30T00:19:47.726Z"
   },
   {
    "duration": 2,
    "start_time": "2024-04-30T00:19:47.864Z"
   },
   {
    "duration": 7,
    "start_time": "2024-04-30T00:19:47.868Z"
   },
   {
    "duration": 8,
    "start_time": "2024-04-30T00:19:47.876Z"
   },
   {
    "duration": 372,
    "start_time": "2024-04-30T00:19:47.885Z"
   },
   {
    "duration": 1505,
    "start_time": "2024-04-30T00:20:23.561Z"
   },
   {
    "duration": 1044391,
    "start_time": "2024-04-30T00:20:42.602Z"
   },
   {
    "duration": 3134,
    "start_time": "2024-04-30T00:38:29.894Z"
   },
   {
    "duration": 11,
    "start_time": "2024-04-30T00:38:37.194Z"
   },
   {
    "duration": 80,
    "start_time": "2024-04-30T00:40:17.687Z"
   },
   {
    "duration": 73,
    "start_time": "2024-04-30T00:41:01.988Z"
   },
   {
    "duration": 90,
    "start_time": "2024-04-30T00:42:08.701Z"
   },
   {
    "duration": 418,
    "start_time": "2024-04-30T00:43:30.675Z"
   },
   {
    "duration": 149,
    "start_time": "2024-04-30T00:45:00.425Z"
   },
   {
    "duration": 115,
    "start_time": "2024-04-30T00:45:37.983Z"
   },
   {
    "duration": 16,
    "start_time": "2024-04-30T00:46:53.754Z"
   },
   {
    "duration": 108,
    "start_time": "2024-04-30T00:47:00.076Z"
   },
   {
    "duration": 2434,
    "start_time": "2024-04-30T00:47:33.582Z"
   },
   {
    "duration": 28,
    "start_time": "2024-04-30T00:48:56.654Z"
   },
   {
    "duration": 27,
    "start_time": "2024-04-30T00:49:05.341Z"
   },
   {
    "duration": 78,
    "start_time": "2024-04-30T00:49:26.275Z"
   },
   {
    "duration": 5448,
    "start_time": "2024-04-30T00:49:52.291Z"
   },
   {
    "duration": 2406,
    "start_time": "2024-04-30T00:49:57.741Z"
   },
   {
    "duration": 3,
    "start_time": "2024-04-30T00:50:00.148Z"
   },
   {
    "duration": 230,
    "start_time": "2024-04-30T00:50:00.152Z"
   },
   {
    "duration": 5,
    "start_time": "2024-04-30T00:50:00.385Z"
   },
   {
    "duration": 245,
    "start_time": "2024-04-30T00:50:00.392Z"
   },
   {
    "duration": 2,
    "start_time": "2024-04-30T00:50:00.638Z"
   },
   {
    "duration": 50,
    "start_time": "2024-04-30T00:50:00.642Z"
   },
   {
    "duration": 36,
    "start_time": "2024-04-30T00:50:00.694Z"
   },
   {
    "duration": 1791,
    "start_time": "2024-04-30T00:50:00.731Z"
   },
   {
    "duration": 1053499,
    "start_time": "2024-04-30T00:50:02.523Z"
   },
   {
    "duration": 15,
    "start_time": "2024-04-30T01:07:36.024Z"
   },
   {
    "duration": 24,
    "start_time": "2024-04-30T01:07:51.088Z"
   },
   {
    "duration": 379,
    "start_time": "2024-04-30T01:08:10.863Z"
   },
   {
    "duration": 83,
    "start_time": "2024-04-30T01:08:27.305Z"
   },
   {
    "duration": 235,
    "start_time": "2024-04-30T01:09:38.133Z"
   },
   {
    "duration": 96,
    "start_time": "2024-04-30T01:09:48.750Z"
   },
   {
    "duration": 109,
    "start_time": "2024-04-30T01:10:17.674Z"
   },
   {
    "duration": 84,
    "start_time": "2024-04-30T01:10:21.630Z"
   },
   {
    "duration": 135,
    "start_time": "2024-04-30T01:10:26.808Z"
   },
   {
    "duration": 142,
    "start_time": "2024-04-30T01:10:30.355Z"
   },
   {
    "duration": 31,
    "start_time": "2024-04-30T01:10:49.748Z"
   },
   {
    "duration": 69,
    "start_time": "2024-04-30T01:13:39.597Z"
   },
   {
    "duration": 37,
    "start_time": "2024-04-30T01:13:49.800Z"
   },
   {
    "duration": 85,
    "start_time": "2024-04-30T01:13:59.747Z"
   },
   {
    "duration": 73,
    "start_time": "2024-04-30T01:14:13.233Z"
   },
   {
    "duration": 132,
    "start_time": "2024-04-30T01:14:16.526Z"
   },
   {
    "duration": 6058,
    "start_time": "2024-04-30T01:14:42.375Z"
   },
   {
    "duration": 6510,
    "start_time": "2024-04-30T01:15:11.251Z"
   },
   {
    "duration": 303,
    "start_time": "2024-04-30T01:15:45.350Z"
   },
   {
    "duration": 4,
    "start_time": "2024-04-30T01:16:57.928Z"
   },
   {
    "duration": 4,
    "start_time": "2024-04-30T01:17:02.381Z"
   },
   {
    "duration": 249,
    "start_time": "2024-04-30T01:17:06.139Z"
   },
   {
    "duration": 4265,
    "start_time": "2024-04-30T01:20:04.942Z"
   },
   {
    "duration": 852,
    "start_time": "2024-04-30T01:20:09.208Z"
   },
   {
    "duration": 2,
    "start_time": "2024-04-30T01:20:10.064Z"
   },
   {
    "duration": 210,
    "start_time": "2024-04-30T01:20:10.068Z"
   },
   {
    "duration": 5,
    "start_time": "2024-04-30T01:20:10.281Z"
   },
   {
    "duration": 125,
    "start_time": "2024-04-30T01:20:10.287Z"
   },
   {
    "duration": 2,
    "start_time": "2024-04-30T01:20:10.413Z"
   },
   {
    "duration": 15,
    "start_time": "2024-04-30T01:20:10.417Z"
   },
   {
    "duration": 4,
    "start_time": "2024-04-30T01:20:10.433Z"
   },
   {
    "duration": 1535,
    "start_time": "2024-04-30T01:20:10.438Z"
   },
   {
    "duration": 1063778,
    "start_time": "2024-04-30T01:20:11.975Z"
   },
   {
    "duration": 34,
    "start_time": "2024-04-30T01:37:55.755Z"
   },
   {
    "duration": 6632,
    "start_time": "2024-04-30T01:37:55.791Z"
   },
   {
    "duration": 4854,
    "start_time": "2024-04-30T01:38:34.874Z"
   },
   {
    "duration": 847,
    "start_time": "2024-04-30T01:38:39.730Z"
   },
   {
    "duration": 3,
    "start_time": "2024-04-30T01:38:40.579Z"
   },
   {
    "duration": 203,
    "start_time": "2024-04-30T01:38:40.583Z"
   },
   {
    "duration": 5,
    "start_time": "2024-04-30T01:38:40.788Z"
   },
   {
    "duration": 125,
    "start_time": "2024-04-30T01:38:40.794Z"
   },
   {
    "duration": 3,
    "start_time": "2024-04-30T01:38:40.920Z"
   },
   {
    "duration": 4,
    "start_time": "2024-04-30T01:38:40.924Z"
   },
   {
    "duration": 4,
    "start_time": "2024-04-30T01:38:40.929Z"
   },
   {
    "duration": 1530,
    "start_time": "2024-04-30T01:38:40.935Z"
   },
   {
    "duration": 1056425,
    "start_time": "2024-04-30T01:38:42.467Z"
   },
   {
    "duration": 14,
    "start_time": "2024-04-30T01:56:18.894Z"
   },
   {
    "duration": 6649,
    "start_time": "2024-04-30T01:56:18.910Z"
   },
   {
    "duration": 693008,
    "start_time": "2024-04-30T01:56:25.562Z"
   },
   {
    "duration": 64474,
    "start_time": "2024-04-30T02:07:58.575Z"
   },
   {
    "duration": 3863074,
    "start_time": "2024-04-30T02:09:03.050Z"
   },
   {
    "duration": 12,
    "start_time": "2024-04-30T03:13:26.126Z"
   },
   {
    "duration": 343,
    "start_time": "2024-04-30T03:13:26.140Z"
   },
   {
    "duration": 47055,
    "start_time": "2024-04-30T09:16:51.624Z"
   },
   {
    "duration": 67,
    "start_time": "2024-04-30T09:43:03.511Z"
   },
   {
    "duration": 44,
    "start_time": "2024-04-30T09:43:55.548Z"
   },
   {
    "duration": 92,
    "start_time": "2024-04-30T09:44:08.963Z"
   },
   {
    "duration": 38828,
    "start_time": "2024-04-30T09:44:38.994Z"
   },
   {
    "duration": 34,
    "start_time": "2024-04-30T10:06:06.585Z"
   },
   {
    "duration": 46534,
    "start_time": "2024-04-30T10:06:33.074Z"
   },
   {
    "duration": 5,
    "start_time": "2024-04-30T10:07:35.761Z"
   },
   {
    "duration": 3,
    "start_time": "2024-04-30T10:07:43.979Z"
   },
   {
    "duration": 16,
    "start_time": "2024-04-30T10:07:48.242Z"
   },
   {
    "duration": 4,
    "start_time": "2024-04-30T10:07:52.751Z"
   },
   {
    "duration": 4,
    "start_time": "2024-04-30T10:08:40.485Z"
   },
   {
    "duration": 1722,
    "start_time": "2024-04-30T10:09:59.844Z"
   },
   {
    "duration": 83,
    "start_time": "2024-04-30T10:11:29.232Z"
   },
   {
    "duration": 5824,
    "start_time": "2024-04-30T10:11:46.861Z"
   },
   {
    "duration": 2342,
    "start_time": "2024-04-30T10:11:52.687Z"
   },
   {
    "duration": 2,
    "start_time": "2024-04-30T10:11:55.030Z"
   },
   {
    "duration": 225,
    "start_time": "2024-04-30T10:11:55.034Z"
   },
   {
    "duration": 8,
    "start_time": "2024-04-30T10:11:55.260Z"
   },
   {
    "duration": 138,
    "start_time": "2024-04-30T10:11:55.270Z"
   },
   {
    "duration": 2,
    "start_time": "2024-04-30T10:11:55.410Z"
   },
   {
    "duration": 11,
    "start_time": "2024-04-30T10:11:55.414Z"
   },
   {
    "duration": 9,
    "start_time": "2024-04-30T10:11:55.426Z"
   },
   {
    "duration": 1560,
    "start_time": "2024-04-30T10:11:55.437Z"
   },
   {
    "duration": 1090483,
    "start_time": "2024-04-30T10:11:56.998Z"
   },
   {
    "duration": 21,
    "start_time": "2024-04-30T10:30:07.483Z"
   },
   {
    "duration": 6867,
    "start_time": "2024-04-30T10:30:07.506Z"
   },
   {
    "duration": 691891,
    "start_time": "2024-04-30T10:30:14.375Z"
   },
   {
    "duration": 65752,
    "start_time": "2024-04-30T10:41:46.268Z"
   },
   {
    "duration": 4740,
    "start_time": "2024-04-30T11:51:11.412Z"
   },
   {
    "duration": 933,
    "start_time": "2024-04-30T11:51:16.154Z"
   },
   {
    "duration": 2,
    "start_time": "2024-04-30T11:51:17.089Z"
   },
   {
    "duration": 216,
    "start_time": "2024-04-30T11:51:17.092Z"
   },
   {
    "duration": 5,
    "start_time": "2024-04-30T11:51:17.310Z"
   },
   {
    "duration": 139,
    "start_time": "2024-04-30T11:51:17.317Z"
   },
   {
    "duration": 8,
    "start_time": "2024-04-30T11:51:17.458Z"
   },
   {
    "duration": 6,
    "start_time": "2024-04-30T11:51:17.473Z"
   },
   {
    "duration": 8,
    "start_time": "2024-04-30T11:51:17.481Z"
   },
   {
    "duration": 1727,
    "start_time": "2024-04-30T11:51:17.491Z"
   },
   {
    "duration": 1119665,
    "start_time": "2024-04-30T11:51:19.220Z"
   },
   {
    "duration": 20,
    "start_time": "2024-04-30T12:09:58.886Z"
   },
   {
    "duration": 7215,
    "start_time": "2024-04-30T12:09:58.908Z"
   },
   {
    "duration": 685750,
    "start_time": "2024-04-30T12:10:06.126Z"
   },
   {
    "duration": 65740,
    "start_time": "2024-04-30T12:21:31.966Z"
   },
   {
    "duration": 3928834,
    "start_time": "2024-04-30T12:22:37.708Z"
   },
   {
    "duration": 13,
    "start_time": "2024-04-30T13:28:06.544Z"
   },
   {
    "duration": 14,
    "start_time": "2024-04-30T13:28:06.565Z"
   },
   {
    "duration": 391,
    "start_time": "2024-04-30T13:28:06.581Z"
   },
   {
    "duration": 831,
    "start_time": "2024-04-30T13:28:29.062Z"
   },
   {
    "duration": 4461,
    "start_time": "2024-04-30T13:28:43.496Z"
   },
   {
    "duration": 927,
    "start_time": "2024-04-30T13:28:47.959Z"
   },
   {
    "duration": 2,
    "start_time": "2024-04-30T13:28:48.888Z"
   },
   {
    "duration": 235,
    "start_time": "2024-04-30T13:28:48.892Z"
   },
   {
    "duration": 5,
    "start_time": "2024-04-30T13:28:49.129Z"
   },
   {
    "duration": 143,
    "start_time": "2024-04-30T13:28:49.135Z"
   },
   {
    "duration": 2,
    "start_time": "2024-04-30T13:28:49.280Z"
   },
   {
    "duration": 13,
    "start_time": "2024-04-30T13:28:49.283Z"
   },
   {
    "duration": 5,
    "start_time": "2024-04-30T13:28:49.297Z"
   },
   {
    "duration": 1651,
    "start_time": "2024-04-30T13:28:49.303Z"
   },
   {
    "duration": 1087086,
    "start_time": "2024-04-30T13:28:50.955Z"
   },
   {
    "duration": 23,
    "start_time": "2024-04-30T13:46:58.043Z"
   },
   {
    "duration": 7019,
    "start_time": "2024-04-30T13:46:58.067Z"
   },
   {
    "duration": 675678,
    "start_time": "2024-04-30T13:47:05.088Z"
   },
   {
    "duration": 65368,
    "start_time": "2024-04-30T13:58:20.768Z"
   },
   {
    "duration": 3940784,
    "start_time": "2024-04-30T13:59:26.138Z"
   },
   {
    "duration": 12,
    "start_time": "2024-04-30T15:05:06.924Z"
   },
   {
    "duration": 19,
    "start_time": "2024-04-30T15:05:06.937Z"
   }
  ],
  "kernelspec": {
   "display_name": "Python 3 (ipykernel)",
   "language": "python",
   "name": "python3"
  },
  "language_info": {
   "codemirror_mode": {
    "name": "ipython",
    "version": 3
   },
   "file_extension": ".py",
   "mimetype": "text/x-python",
   "name": "python",
   "nbconvert_exporter": "python",
   "pygments_lexer": "ipython3",
   "version": "3.11.5"
  },
  "toc": {
   "base_numbering": 1,
   "nav_menu": {},
   "number_sections": true,
   "sideBar": true,
   "skip_h1_title": true,
   "title_cell": "Содержание",
   "title_sidebar": "Contents",
   "toc_cell": true,
   "toc_position": {
    "height": "calc(100% - 180px)",
    "left": "10px",
    "top": "150px",
    "width": "302.391px"
   },
   "toc_section_display": true,
   "toc_window_display": false
  }
 },
 "nbformat": 4,
 "nbformat_minor": 2
}
